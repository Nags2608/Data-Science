{
 "cells": [
  {
   "cell_type": "code",
   "execution_count": 1,
   "id": "fedddd65",
   "metadata": {},
   "outputs": [
    {
     "name": "stdout",
     "output_type": "stream",
     "text": [
      "Accuracy: 0.994132060871808\n",
      "Confusion Matrix: [[14939    82]\n",
      " [    9   478]]\n"
     ]
    }
   ],
   "source": [
    "import pandas as pd\n",
    "import numpy as np\n",
    "from sklearn.linear_model import LogisticRegression\n",
    "from sklearn.model_selection import train_test_split\n",
    "from sklearn.preprocessing import StandardScaler\n",
    "from sklearn.metrics import accuracy_score, confusion_matrix\n",
    "\n",
    "# Load data from CSV file\n",
    "data = pd.read_csv('/Users/nags26/Downloads/lending_data.csv')\n",
    "\n",
    "# Clean data by removing missing values\n",
    "data.dropna(inplace=True)\n",
    "\n",
    "# Split data into features and labels\n",
    "features = data[['loan_size', 'interest_rate', 'borrower_income', 'debt_to_income',\n",
    "                 'num_of_accounts', 'derogatory_marks', 'total_debt']]\n",
    "labels = data['loan_status']\n",
    "\n",
    "# Scale features to have zero mean and unit variance\n",
    "scaler = StandardScaler()\n",
    "features = scaler.fit_transform(features)\n",
    "\n",
    "# Split data into training and testing sets\n",
    "train_features, test_features, train_labels, test_labels = train_test_split(features, labels, test_size=0.2)\n",
    "\n",
    "# Build a logistic regression model for credit risk prediction\n",
    "model = LogisticRegression()\n",
    "\n",
    "# Train the model on the training set\n",
    "model.fit(train_features, train_labels)\n",
    "\n",
    "# Predict labels for the testing set\n",
    "predictions = model.predict(test_features)\n",
    "\n",
    "# Evaluate the model's accuracy and confusion matrix\n",
    "accuracy = accuracy_score(test_labels, predictions)\n",
    "conf_matrix = confusion_matrix(test_labels, predictions)\n",
    "print('Accuracy:', accuracy)\n",
    "print('Confusion Matrix:', conf_matrix)"
   ]
  },
  {
   "cell_type": "code",
   "execution_count": null,
   "id": "1d594a84",
   "metadata": {},
   "outputs": [],
   "source": []
  }
 ],
 "metadata": {
  "kernelspec": {
   "display_name": "Python 3 (ipykernel)",
   "language": "python",
   "name": "python3"
  },
  "language_info": {
   "codemirror_mode": {
    "name": "ipython",
    "version": 3
   },
   "file_extension": ".py",
   "mimetype": "text/x-python",
   "name": "python",
   "nbconvert_exporter": "python",
   "pygments_lexer": "ipython3",
   "version": "3.9.7"
  }
 },
 "nbformat": 4,
 "nbformat_minor": 5
}
